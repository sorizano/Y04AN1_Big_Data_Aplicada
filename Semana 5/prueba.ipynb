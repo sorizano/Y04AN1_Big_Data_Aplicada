{
 "cells": [
  {
   "cell_type": "code",
   "execution_count": 1,
   "id": "598d5cdc",
   "metadata": {},
   "outputs": [
    {
     "name": "stdout",
     "output_type": "stream",
     "text": [
      "✅ Spark iniciado: 3.5.4\n",
      "Cuenta JVM: 10\n",
      "RDD collect: [2, 4, 6, 8]\n",
      "Worker Python: 3.11.0 (main, Oct 24 2022, 18:26:48) [MSC v.1933 64 bit (AMD64)]\n",
      "+---+-----+\n",
      "| id|texto|\n",
      "+---+-----+\n",
      "|  1| hola|\n",
      "|  2|mundo|\n",
      "+---+-----+\n",
      "\n",
      "✅ OK\n"
     ]
    }
   ],
   "source": [
    "import os, sys\n",
    "from pathlib import Path\n",
    "from pyspark.sql import SparkSession\n",
    "\n",
    "# === Fuerza el Python correcto (mismo venv) ===\n",
    "this_python = sys.executable\n",
    "os.environ[\"PYSPARK_PYTHON\"] = this_python\n",
    "os.environ[\"PYSPARK_DRIVER_PYTHON\"] = this_python\n",
    "\n",
    "# === Fuerza IPv4/localhost y temp dir sin espacios ===\n",
    "os.environ[\"SPARK_LOCAL_IP\"] = \"127.0.0.1\"\n",
    "spark_tmp = r\"C:\\spark-tmp\"\n",
    "Path(spark_tmp).mkdir(parents=True, exist_ok=True)\n",
    "\n",
    "spark = (\n",
    "    SparkSession.builder\n",
    "    .appName(\"DiagnosticoSparkLocal\")\n",
    "    .master(\"local[*]\")\n",
    "    .config(\"spark.driver.bindAddress\",\"127.0.0.1\")\n",
    "    .config(\"spark.driver.host\",\"127.0.0.1\")\n",
    "    .config(\"spark.local.dir\", spark_tmp)\n",
    "    .config(\"spark.sql.execution.arrow.pyspark.enabled\",\"false\")\n",
    "    .config(\"spark.network.timeout\",\"300s\")\n",
    "    .getOrCreate()\n",
    ")\n",
    "\n",
    "print(\"✅ Spark iniciado:\", spark.version)\n",
    "\n",
    "# --- PRUEBA JVM pura (no necesita worker Python) ---\n",
    "print(\"Cuenta JVM:\", spark.range(10).count())\n",
    "\n",
    "# --- PRUEBA worker Python (RDD con lambda) ---\n",
    "rdd = spark.sparkContext.parallelize([1,2,3,4], 2).map(lambda x: x*2)\n",
    "print(\"RDD collect:\", rdd.collect())\n",
    "\n",
    "# (Diagnóstico) imprime versión de Python dentro del worker\n",
    "def pyver_in_worker(it):\n",
    "    import sys\n",
    "    yield \"Worker Python: \" + sys.version\n",
    "print(rdd.mapPartitions(pyver_in_worker).take(1)[0])\n",
    "\n",
    "# --- PRUEBA DataFrame ---\n",
    "df = spark.createDataFrame([(1,\"hola\"), (2,\"mundo\")], [\"id\",\"texto\"])\n",
    "df.show()\n",
    "\n",
    "spark.stop()\n",
    "print(\"✅ OK\")\n"
   ]
  }
 ],
 "metadata": {
  "kernelspec": {
   "display_name": "venv_bda",
   "language": "python",
   "name": "python3"
  },
  "language_info": {
   "codemirror_mode": {
    "name": "ipython",
    "version": 3
   },
   "file_extension": ".py",
   "mimetype": "text/x-python",
   "name": "python",
   "nbconvert_exporter": "python",
   "pygments_lexer": "ipython3",
   "version": "3.11.0"
  }
 },
 "nbformat": 4,
 "nbformat_minor": 5
}
