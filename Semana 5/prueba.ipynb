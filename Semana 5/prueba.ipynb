{
 "cells": [
  {
   "cell_type": "code",
   "execution_count": null,
   "id": "598d5cdc",
   "metadata": {},
   "outputs": [
    {
     "name": "stdout",
     "output_type": "stream",
     "text": [
      "✅ Spark iniciado: 3.5.4\n",
      "Cuenta JVM: 10\n",
      "RDD collect: [2, 4, 6, 8]\n",
      "Worker Python: 3.11.0 (main, Oct 24 2022, 18:26:48) [MSC v.1933 64 bit (AMD64)]\n",
      "+---+-----+\n",
      "| id|texto|\n",
      "+---+-----+\n",
      "|  1| hola|\n",
      "|  2|mundo|\n",
      "+---+-----+\n",
      "\n",
      "✅ OK\n",
      "Spark OK: 3.5.4\n",
      "defaultParallelism: 8\n",
      "particiones shuffle: 200\n"
     ]
    }
   ],
   "source": [
    "import os, sys\n",
    "from pathlib import Path\n",
    "from pyspark.sql import SparkSession\n",
    "\n",
    "# === Fuerza el Python correcto (mismo venv) ===\n",
    "this_python = sys.executable\n",
    "os.environ[\"PYSPARK_PYTHON\"] = this_python\n",
    "os.environ[\"PYSPARK_DRIVER_PYTHON\"] = this_python\n",
    "\n",
    "# === Fuerza IPv4/localhost y temp dir sin espacios ===\n",
    "os.environ[\"SPARK_LOCAL_IP\"] = \"127.0.0.1\"\n",
    "spark_tmp = r\"C:\\spark-tmp\"\n",
    "Path(spark_tmp).mkdir(parents=True, exist_ok=True)\n",
    "\n",
    "spark = (\n",
    "    SparkSession.builder\n",
    "    .appName(\"DiagnosticoSparkLocal\")\n",
    "    .master(\"local[*]\")\n",
    "    .config(\"spark.driver.bindAddress\",\"127.0.0.1\")\n",
    "    .config(\"spark.driver.host\",\"127.0.0.1\")\n",
    "    .config(\"spark.local.dir\", spark_tmp)\n",
    "    .config(\"spark.sql.execution.arrow.pyspark.enabled\",\"false\")\n",
    "    .config(\"spark.network.timeout\",\"300s\")\n",
    "    .getOrCreate()\n",
    ")\n",
    "\n",
    "print(\"✅ Spark iniciado:\", spark.version)\n",
    "\n",
    "# --- PRUEBA JVM pura (no necesita worker Python) ---\n",
    "print(\"Cuenta JVM:\", spark.range(10).count())\n",
    "\n",
    "# --- PRUEBA worker Python (RDD con lambda) ---\n",
    "rdd = spark.sparkContext.parallelize([1,2,3,4], 2).map(lambda x: x*2)\n",
    "print(\"RDD collect:\", rdd.collect())\n",
    "\n",
    "# (Diagnóstico) imprime versión de Python dentro del worker\n",
    "def pyver_in_worker(it):\n",
    "    import sys\n",
    "    yield \"Worker Python: \" + sys.version\n",
    "print(rdd.mapPartitions(pyver_in_worker).take(1)[0])\n",
    "\n",
    "# --- PRUEBA DataFrame ---\n",
    "df = spark.createDataFrame([(1,\"hola\"), (2,\"mundo\")], [\"id\",\"texto\"])\n",
    "df.show()\n",
    "\n",
    "print(\"✅ OK\")\n",
    "\n",
    "\n",
    "\n",
    "def ensure_spark():\n",
    "    global spark\n",
    "    try:\n",
    "        if spark is None or getattr(spark, \"_jsc\", None) is None:\n",
    "            raise RuntimeError(\"Spark not active\")\n",
    "    except NameError:\n",
    "        pass  # spark no existe\n",
    "    if 'spark' not in globals() or getattr(spark, \"_jsc\", None) is None:\n",
    "        spark = (SparkSession.builder\n",
    "                 .appName(\"DiagCheck\")\n",
    "                 .master(\"local[*]\")\n",
    "                 .config(\"spark.sql.shuffle.partitions\", \"8\")\n",
    "                 .getOrCreate())\n",
    "    return spark\n",
    "\n",
    "# Usar la función\n",
    "spark = ensure_spark()\n",
    "\n",
    "print(\"Spark OK:s\", spark.version)\n",
    "print(\"defaultParallelism:\", spark.sparkContext.defaultParallelism)\n",
    "print(\"particiones shuffle:\", spark.conf.get(\"spark.sql.shuffle.partitions\"))\n"
   ]
  },
  {
   "cell_type": "code",
   "execution_count": 2,
   "id": "e8c980ab",
   "metadata": {},
   "outputs": [
    {
     "name": "stdout",
     "output_type": "stream",
     "text": [
      "Spark OK: 3.5.4\n",
      "defaultParallelism: 8\n",
      "particiones shuffle: 8\n"
     ]
    }
   ],
   "source": [
    "from pyspark.sql import SparkSession\n",
    "\n",
    "def ensure_spark():\n",
    "    global spark\n",
    "    try:\n",
    "        if spark is None or getattr(spark, \"_jsc\", None) is None:\n",
    "            raise RuntimeError(\"Spark not active\")\n",
    "    except NameError:\n",
    "        pass  # spark no existe\n",
    "    if 'spark' not in globals() or getattr(spark, \"_jsc\", None) is None:\n",
    "        spark = (SparkSession.builder\n",
    "                 .appName(\"DiagCheck\")\n",
    "                 .master(\"local[*]\")\n",
    "                 .config(\"spark.sql.shuffle.partitions\", \"8\")\n",
    "                 .getOrCreate())\n",
    "    return spark\n",
    "\n",
    "# Usar la función\n",
    "spark = ensure_spark()\n",
    "\n",
    "print(\"Spark OK:\", spark.version)\n",
    "print(\"defaultParallelism:\", spark.sparkContext.defaultParallelism)\n",
    "print(\"particiones shuffle:\", spark.conf.get(\"spark.sql.shuffle.partitions\"))\n"
   ]
  },
  {
   "cell_type": "code",
   "execution_count": null,
   "id": "41bc8b8d",
   "metadata": {},
   "outputs": [
    {
     "name": "stdout",
     "output_type": "stream",
     "text": [
      "Antes 8\n",
      "Después del groupBy, paticiones de shuffle: 1\n"
     ]
    }
   ],
   "source": [
    "from pyspark.sql import functions as F\n",
    "\n",
    "\n",
    "df = spark.range(1, 1_000_000).withColumn(\"grp\", (F.col(\"id\") % 10))\n",
    "print(\"Antes\", df.rdd.getNumPartitions())\n",
    "\n",
    "#cambiar particiones de shuffle a 8\n",
    "spark.conf.set(\"spark.sql.shuffle.partitions\",8)\n",
    "\n",
    "res = df.groupBy(\"grp\").count()\n",
    "print(\"Después del groupBy, paticiones de shuffle:\", res.rdd.getNumPartitions())"
   ]
  },
  {
   "cell_type": "code",
   "execution_count": 5,
   "id": "86ba94bc",
   "metadata": {},
   "outputs": [
    {
     "data": {
      "text/plain": [
       "<bound method SparkSession.stop of <pyspark.sql.session.SparkSession object at 0x0000014C38156190>>"
      ]
     },
     "execution_count": 5,
     "metadata": {},
     "output_type": "execute_result"
    }
   ],
   "source": [
    "spark.stop"
   ]
  }
 ],
 "metadata": {
  "kernelspec": {
   "display_name": "venv_bda",
   "language": "python",
   "name": "python3"
  },
  "language_info": {
   "codemirror_mode": {
    "name": "ipython",
    "version": 3
   },
   "file_extension": ".py",
   "mimetype": "text/x-python",
   "name": "python",
   "nbconvert_exporter": "python",
   "pygments_lexer": "ipython3",
   "version": "3.11.0"
  }
 },
 "nbformat": 4,
 "nbformat_minor": 5
}
