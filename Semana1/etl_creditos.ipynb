{
 "cells": [
  {
   "cell_type": "markdown",
   "id": "785ee3c5",
   "metadata": {},
   "source": [
    "# ETL en Big Data con PySpark\n",
    "\n",
    "Simula el procesamiento de solicitudes de crédito bancario a gran escala\n",
    "\n",
    "Fases:\n",
    "\n",
    "E - Extract: Generar datos sintéticos realistas (4M filas)\n",
    "\n",
    "T - Transform: Aplicar reglas de negocio (scoring, flags, limpieza)\n",
    "\n",
    "L - Load: Guardar los datos como Parquet, particionando por fecha y tipo_credito\n",
    "\n"
   ]
  },
  {
   "cell_type": "code",
   "execution_count": 1,
   "id": "9bd70068",
   "metadata": {},
   "outputs": [],
   "source": [
    "from pyspark.sql import SparkSession\n",
    "from pyspark.sql.functions import col, when, rand, round, lit\n",
    "from datetime import datetime\n",
    "import os"
   ]
  },
  {
   "cell_type": "code",
   "execution_count": 2,
   "id": "cafbcb18",
   "metadata": {},
   "outputs": [],
   "source": [
    "#--------------------------------\n",
    "# Configuración\n",
    "#--------------------------------\n",
    "\n",
    "# Número de filas a generar\n",
    "N_ROWS = 4_000_000\n",
    "\n",
    "# Fecha de carga del lote\n",
    "FECHA_CARGA = datetime.today().strftime(\"%Y-%m-%d\")\n",
    "\n",
    "# Ruta de salida de los datos sintéticos\n",
    "OUTPUT_DIR = \"../datos_sinteticos/creditos_bancarios\""
   ]
  },
  {
   "cell_type": "code",
   "execution_count": 3,
   "id": "f8e5d47c",
   "metadata": {},
   "outputs": [
    {
     "name": "stdout",
     "output_type": "stream",
     "text": [
      "Sesión Spark iniciada\n"
     ]
    }
   ],
   "source": [
    "#--------------------------------\n",
    "# Crear sesión Spark\n",
    "#--------------------------------\n",
    "\n",
    "spark = SparkSession.builder \\\n",
    "    .appName(\"ETL_Creditos_Bancarios\") \\\n",
    "    .master(\"local[*]\") \\\n",
    "    .config(\"spark.driver.extraJavaOptions\", \"-Djava.library.path=C:/Java_up/bin\") \\\n",
    "    .getOrCreate()\n",
    "\n",
    "print(\"Sesión Spark iniciada\")"
   ]
  }
 ],
 "metadata": {
  "kernelspec": {
   "display_name": "venv_bda",
   "language": "python",
   "name": "python3"
  },
  "language_info": {
   "codemirror_mode": {
    "name": "ipython",
    "version": 3
   },
   "file_extension": ".py",
   "mimetype": "text/x-python",
   "name": "python",
   "nbconvert_exporter": "python",
   "pygments_lexer": "ipython3",
   "version": "3.13.1"
  }
 },
 "nbformat": 4,
 "nbformat_minor": 5
}
